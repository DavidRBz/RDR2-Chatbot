{
  "nbformat": 4,
  "nbformat_minor": 0,
  "metadata": {
    "colab": {
      "provenance": [],
      "authorship_tag": "ABX9TyM4avlyaBs3RuhyJSuG2UhR",
      "include_colab_link": true
    },
    "kernelspec": {
      "name": "python3",
      "display_name": "Python 3"
    },
    "language_info": {
      "name": "python"
    }
  },
  "cells": [
    {
      "cell_type": "markdown",
      "metadata": {
        "id": "view-in-github",
        "colab_type": "text"
      },
      "source": [
        "<a href=\"https://colab.research.google.com/github/DavidRBz/RDR2-Chatbot/blob/test/Chatbot_RDR2.ipynb\" target=\"_parent\"><img src=\"https://colab.research.google.com/assets/colab-badge.svg\" alt=\"Open In Colab\"/></a>"
      ]
    },
    {
      "cell_type": "code",
      "execution_count": 5,
      "metadata": {
        "id": "XtkZYwtI7SrL"
      },
      "outputs": [],
      "source": [
        "#Configurando o ambiente\n",
        "!pip install -q -U google-generativeai\n",
        "\n",
        "import google.generativeai as genai\n",
        "from google.colab import userdata\n",
        "GOOGLE_API_KEY = userdata.get('GOOGLE_API_KEY')\n",
        "genai.configure(api_key=GOOGLE_API_KEY)\n",
        "\n",
        "generation_config = {\n",
        "  \"candidate_count\": 1,\n",
        "  \"temperature\": 1,\n",
        "}\n",
        "\n",
        "safety_settings = {\n",
        "    'HATE': 'BLOCK_NONE',\n",
        "    'HARASSMENT': 'BLOCK_NONE',\n",
        "    'SEXUAL' : 'BLOCK_NONE',\n",
        "    'DANGEROUS' : 'BLOCK_NONE'\n",
        "}\n",
        "\n",
        "model = genai.GenerativeModel(model_name='gemini-1.0-pro', generation_config=generation_config, safety_settings=safety_settings)"
      ]
    },
    {
      "cell_type": "code",
      "source": [
        "#Melhorando a visualização\n",
        "#Código disponível em https://ai.google.dev/tutorials/python_quickstart#import_packages\n",
        "import textwrap\n",
        "from IPython.display import display\n",
        "from IPython.display import Markdown\n",
        "\n",
        "def to_markdown(text):\n",
        "  text = text.replace('•', '  *')\n",
        "  return Markdown(textwrap.indent(text, '> ', predicate=lambda _: True))\n",
        "\n",
        "#Imprimindo o histórico\n",
        "for message in chat.history:\n",
        "  display(to_markdown(f'**{message.role}**: {message.parts[0].text}'))\n",
        "  print('-------------------------------------------')"
      ],
      "metadata": {
        "id": "9qwd05ZH2IWq"
      },
      "execution_count": null,
      "outputs": []
    },
    {
      "cell_type": "code",
      "source": [
        "#Importando o arquivo contendo as informações dos personagens\n",
        "import requests\n",
        "url = \"https://raw.githubusercontent.com/DavidRBz/RDR2-Chatbot/test/Character_Information.json\"\n",
        "resposta = requests.get(url)\n",
        "personagens = resposta.json()"
      ],
      "metadata": {
        "id": "CfVHib992F9q"
      },
      "execution_count": 1,
      "outputs": []
    },
    {
      "cell_type": "code",
      "source": [
        "teste = [\n",
        "  {\"name\":\"Arthur Morgan\",\"gender\":\"Male\",\"personality\":\"Personality of Arthur Morgan.\",\"background\":\"Background of Arthur Morgan\"},\n",
        "  {\"name\":\"John Marston\",\"gender\":\"Male\",\"personality\":\"Personality of John Marston.\",\"background\":\"Background of John Marston\"},\n",
        "  {\"name\":\"Abigail Marston\",\"gender\":\"Female\",\"personality\":\"Personality of Abigail Marston.\",\"background\":\"Background of Abigail Marston\"},\n",
        "  {\"name\":\"Hosea Matthews\",\"gender\":\"Male\",\"personality\":\"Personality of Hosea Matthews.\",\"background\":\"Background of Hosea Matthews\"},\n",
        "  {\"name\":\"Leopold Strauss\",\"gender\":\"Male\",\"personality\":\"Personality of Leopold Strauss.\",\"background\":\"Background of Leopold Strauss\"},\n",
        "  {\"name\":\"Sadie Adler\",\"gender\":\"Female\",\"personality\":\"Personality of Sadie Adler.\",\"background\":\"Background of Sadie Adler\"},\n",
        "  {\"name\":\"Uncle\",\"gender\":\"Male\",\"personality\":\"Personality of Uncle.\",\"background\":\"Background of Uncle\"},\n",
        "  {\"name\":\"Dutch van der Linde\",\"gender\":\"Male\",\"personality\":\"Personality of Dutch van der Linde.\",\"background\":\"Background of Dutch van der Linde\"},\n",
        "  {\"name\":\"Micah Bell\",\"gender\":\"Male\",\"personality\":\"Personality of Micah Bell.\",\"background\":\"Background of Micah Bell\"},\n",
        "  {\"name\":\"Colm O'Driscoll\",\"gender\":\"Male\",\"personality\":\"Personality of Colm O'Driscoll.\",\"background\":\"Background of Colm O'Driscoll\"},\n",
        "  {\"name\":\"Andrew Milton\",\"gender\":\"Male\",\"personality\":\"Personality of Andrew Milton.\",\"background\":\"Background of Andrew Milton\"}\n",
        "]"
      ],
      "metadata": {
        "id": "bAs5AAyUE_dc"
      },
      "execution_count": 6,
      "outputs": []
    },
    {
      "cell_type": "code",
      "source": [
        "nome = 'Dutch van der Linde'\n",
        "\n",
        "for item in personagens:\n",
        "    if item[\"name\"] == nome:\n",
        "        print(item[\"name\"])\n",
        "    if item[\"name\"] == nome:\n",
        "        print(item[\"gender\"])\n",
        "    if item[\"name\"] == nome:\n",
        "        print(item[\"personality\"])\n",
        "    if item[\"name\"] == nome:\n",
        "        print(item[\"background\"])"
      ],
      "metadata": {
        "colab": {
          "base_uri": "https://localhost:8080/"
        },
        "id": "_Mf7M-au2zHS",
        "outputId": "9066e50b-2757-4599-d4cf-b4e8d3b94b41"
      },
      "execution_count": 22,
      "outputs": [
        {
          "output_type": "stream",
          "name": "stdout",
          "text": [
            "Dutch van der Linde\n",
            "Male\n",
            "Dutch Van der Linde is a complex and contradictory character. He is a charismatic leader with a strong sense of idealism, believing he is fighting against a corrupt government and for the rights of individuals. He attracts followers who feel downtrodden by society and fosters a strong sense of loyalty and family within his gang. Dutch is intelligent and educated, but also ruthless and capable of violence, justifying his actions as necessary for his cause. He values loyalty above all else, often leading to him dismissing or turning against those who question him. Over time, Dutch's idealism becomes warped, and he grows increasingly paranoid, erratic, and power-hungry. He makes reckless decisions that put the gang in danger and becomes distrustful of even his closest allies, like Arthur and John. His hypocrisy becomes evident as he enjoys the benefits of civilization while condemning it. Despite his claims of fighting for freedom and individuality, he ultimately seeks control and demands blind loyalty. By the end of his life, Dutch is a broken man, aware of the futility of his actions and the changing world around him. He expresses remorse for his choices but remains unable to change his nature. His suicide symbolizes the end of the Wild West era and the demise of his outdated ideals.\n",
            "Dutch van der Linde, born in 1855 near Philadelphia, developed a hatred for Southerners after his father's death in the Civil War. He left home at 15 and turned to a life of crime, valuing freedom above all else. In the mid-1870s, he partnered with con artist Hosea Matthews, forming the Van der Linde gang. They took in Arthur Morgan, a young orphan, and taught him their ways. Dutch's relationship with Susan Grimshaw ended when he fell in love with Annabelle. A feud with Colm O'Driscoll began after Dutch broke a truce and Colm retaliated by killing Annabelle. In 1885, Dutch saved John Marston from being lynched and welcomed him into the gang. The gang's first major bank robbery in 1887 solidified their Robin Hood image, stealing from the rich and giving to the poor. Over the years, Dutch recruited more members like Bill Williamson, Javier Escuella, and Sean MacGuire. By 1899, Dutch's idealistic vision of a savage utopia was fading as the Wild West declined. The gang's disastrous Blackwater ferry robbery forced them to flee, and Dutch's leadership became increasingly erratic and paranoid. He orchestrated various heists and schemes, often with tragic consequences, and his distrust in his own gang members grew. He eventually betrayed Arthur and sided with Micah Bell, who was revealed to be an informant for the Pinkertons. After the gang's downfall, Dutch disappeared for years before resurfacing in 1911, leading a new gang of natives against settlers. His ultimate fate remains unknown.\n"
          ]
        }
      ]
    },
    {
      "cell_type": "code",
      "source": [],
      "metadata": {
        "id": "FOrAwHZMC-c_"
      },
      "execution_count": null,
      "outputs": []
    }
  ]
}