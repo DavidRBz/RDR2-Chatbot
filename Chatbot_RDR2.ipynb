{
  "nbformat": 4,
  "nbformat_minor": 0,
  "metadata": {
    "colab": {
      "provenance": [],
      "authorship_tag": "ABX9TyMHwgQBdbIA/0q3OLtrEJfd",
      "include_colab_link": true
    },
    "kernelspec": {
      "name": "python3",
      "display_name": "Python 3"
    },
    "language_info": {
      "name": "python"
    }
  },
  "cells": [
    {
      "cell_type": "markdown",
      "metadata": {
        "id": "view-in-github",
        "colab_type": "text"
      },
      "source": [
        "<a href=\"https://colab.research.google.com/github/DavidRBz/RDR2-Chatbot/blob/main/Chatbot_RDR2.ipynb\" target=\"_parent\"><img src=\"https://colab.research.google.com/assets/colab-badge.svg\" alt=\"Open In Colab\"/></a>"
      ]
    },
    {
      "cell_type": "code",
      "execution_count": 5,
      "metadata": {
        "id": "XtkZYwtI7SrL"
      },
      "outputs": [],
      "source": [
        "#Configurando o ambiente\n",
        "!pip install -q -U google-generativeai\n",
        "\n",
        "import google.generativeai as genai\n",
        "from google.colab import userdata\n",
        "GOOGLE_API_KEY = userdata.get('GOOGLE_API_KEY')\n",
        "genai.configure(api_key=GOOGLE_API_KEY)\n",
        "\n",
        "generation_config = {\n",
        "  \"candidate_count\": 1,\n",
        "  \"temperature\": 1,\n",
        "}\n",
        "\n",
        "safety_settings = {\n",
        "    'HATE': 'BLOCK_NONE',\n",
        "    'HARASSMENT': 'BLOCK_NONE',\n",
        "    'SEXUAL' : 'BLOCK_NONE',\n",
        "    'DANGEROUS' : 'BLOCK_NONE'\n",
        "}\n",
        "\n",
        "model = genai.GenerativeModel(model_name='gemini-1.0-pro', generation_config=generation_config, safety_settings=safety_settings)"
      ]
    },
    {
      "cell_type": "code",
      "source": [
        "#Importando o arquivo contendo as informações dos personagens\n",
        "import requests\n",
        "url = \"https://raw.githubusercontent.com/DavidRBz/RDR2-Chatbot/test/Informacoes_personagens.json\"\n",
        "resposta = requests.get(url)\n",
        "informacoes_personagens = resposta.json()"
      ],
      "metadata": {
        "id": "CfVHib992F9q"
      },
      "execution_count": 55,
      "outputs": []
    },
    {
      "cell_type": "code",
      "source": [
        "#Escolha de qual personagem quer conversar\n",
        "\n",
        "#Lista dos personagens\n",
        "characters = {\n",
        "    \"Arthur Morgan\": 1,\n",
        "    \"John Marston\": 2,\n",
        "    \"Abigail Marston\": 3,\n",
        "    \"Dutch van der Linde\": 4,\n",
        "    \"Hosea Matthews\": 5,\n",
        "    \"Sadie Adler\": 6,\n",
        "    \"Uncle\": 7,\n",
        "    \"Leopold Strauss\": 8,\n",
        "    \"Micah Bell\": 9,\n",
        "    \"Colm O'Driscoll\": 10\n",
        "}\n",
        "\n",
        "personagem = None #Para manter o loop se nenhum personagem for escolhido\n",
        "\n",
        "while personagem is None:\n",
        "\n",
        "    print(\"Escolha o personagem com quem você quer conversar (número correspondente ou nome): \\n\")\n",
        "    for name, number in characters.items():\n",
        "        print(f\"{number} - {name}\\n\")\n",
        "    print(\"Digite 'FIM' para sair.\\n\")\n",
        "\n",
        "    escolha = input()\n",
        "\n",
        "    if escolha.upper() == \"FIM\":\n",
        "        print(\"Fim da conversa.\")\n",
        "        break\n",
        "\n",
        "    # Verifica se é um número\n",
        "    if escolha.isdigit() and int(escolha) in characters.values():\n",
        "        for name, number in characters.items():\n",
        "            if number == int(escolha):\n",
        "                personagem = name\n",
        "                break\n",
        "    else:\n",
        "        # Converte o texto para título (Primeira Letra Maiúscula)\n",
        "        escolha = escolha.title()\n",
        "        if escolha in characters:\n",
        "            personagem = escolha\n",
        "\n",
        "    if personagem is None:\n",
        "        print(\"Escolha inválida. Por favor, escolha um número ou nome de personagem válido.\\n\")\n",
        "    else:\n",
        "    # Encontra o personagem correspondente e coloca suas caracteristicas nas variaveis correspondentes\n",
        "      for caracteristica in informacoes_personagens:\n",
        "        if caracteristica[\"name\"] == personagem:\n",
        "            nome = caracteristica[\"name\"]\n",
        "            genero = caracteristica[\"gender\"]\n",
        "            personalidade = caracteristica[\"personality\"]\n",
        "            historia = caracteristica[\"background\"]\n",
        "            break\n",
        ""
      ],
      "metadata": {
        "colab": {
          "base_uri": "https://localhost:8080/"
        },
        "id": "aA2_9TWBNAy7",
        "outputId": "52f43d99-705f-4ace-edec-d8c4a220c79a"
      },
      "execution_count": 56,
      "outputs": [
        {
          "output_type": "stream",
          "name": "stdout",
          "text": [
            "Escolha o personagem com quem você quer conversar (número correspondente ou nome): \n",
            "\n",
            "1 - Arthur Morgan\n",
            "\n",
            "2 - John Marston\n",
            "\n",
            "3 - Abigail Marston\n",
            "\n",
            "4 - Dutch van der Linde\n",
            "\n",
            "5 - Hosea Matthews\n",
            "\n",
            "6 - Sadie Adler\n",
            "\n",
            "7 - Uncle\n",
            "\n",
            "8 - Leopold Strauss\n",
            "\n",
            "9 - Micah Bell\n",
            "\n",
            "10 - Colm O'Driscoll\n",
            "\n",
            "Digite 'FIM' para sair.\n",
            "\n",
            "2\n",
            "Você escolheu conversar com John Marston.\n",
            "\n",
            "Nome: John Marston\n",
            "Gênero: Homem\n",
            "Personalidade: John Marston é um personagem complexo com uma personalidade multifacetada. Ele é um indivíduo sério e pragmático, muitas vezes exibindo um humor seco e sarcasmo, particularmente para com aqueles que ele percebe como hipócritas. Embora capaz de violência e crueldade, John possui uma forte bússola moral, particularmente em relação às mulheres. Ele é respeitoso e protetor com elas, demonstrado por seu comportamento educado e disposição em defendê-las de qualquer dano. O passado de John como um fora da lei o assombra, e ele luta com a culpa e o desejo de redenção. Apesar de seu passado, ele valoriza a família e a lealdade, evidente em seu relacionamento complexo com Dutch van der Linde, seu antigo mentor. Embora John respeite Dutch, ele reconhece a natureza destrutiva da ideologia de Dutch e busca um caminho diferente para si e sua família. John é cínico em relação à autoridade e às estruturas sociais, acreditando que são inerentemente corruptas e hipócritas. Ele também é cético em relação aos avanços tecnológicos, preferindo os métodos tradicionais. Apesar de seu cinismo, John deseja, em última análise, uma vida pacífica com sua família, buscando escapar da violência e corrupção que assolam o mundo ao seu redor. O personagem de John também é moldado pelas escolhas do jogador ao longo do jogo, permitindo variações em sua moralidade e busca por vingança. No entanto, independentemente da influência do jogador, John Marston permanece uma figura moralmente ambígua com um forte senso de honra e um anseio por redenção. Em seus anos mais jovens, como retratado em Red Dead Redemption 2, John é retratado como mais apático e distante em relação à sua família, priorizando sua lealdade à gangue em vez de suas responsabilidades como marido e pai. No entanto, à medida que a situação da gangue se deteriora e sua família é colocada em perigo, John passa por uma transformação, percebendo a importância de seus entes queridos e se esforçando para se tornar um homem melhor.\n",
            "História: John Marston nasceu em 1873, filho de um pai imigrante escocês e de uma mãe prostituta que morreu durante seu nascimento. Depois que seu pai morreu quando John tinha oito anos, ele foi enviado para um orfanato, mas fugiu e viveu nas ruas, cometendo seu primeiro assassinato aos onze anos. Aos doze anos, ele foi salvo do enforcamento por Dutch van der Linde, que o levou para sua gangue. A gangue se tornou a família substituta de John, com Dutch como seu mentor. John se tornou um fora da lei habilidoso, acreditando na filosofia de Dutch de roubar dos ricos para ajudar os pobres. Ele se apaixonou por Abigail Roberts, uma prostituta que se juntou à gangue, e eles tiveram um filho chamado Jack. John deixou a gangue brevemente, mas retornou, enfrentando uma tensão crescente com Arthur Morgan. A gangue se envolveu em vários crimes, incluindo um assalto desastroso a uma balsa em Blackwater. Durante sua fuga, John foi ferido e resgatado por Arthur. Ele participou de roubos e ataques, experimentando uma crescente divisão com Dutch. John foi preso após um assalto a banco fracassado, mas depois foi libertado por Arthur. Reconhecendo a deterioração da gangue, Arthur pediu a John que partisse com sua família. John participou do assalto final da gangue, mas foi deixado para morrer por Dutch. Ele se reuniu com sua família e eles tentaram começar uma nova vida. No entanto, o passado de John o alcançou, forçando-o a matar novamente. Ele comprou um rancho, Beecher's Hope, e procurou viver uma vida honesta. Ele soube da localização de Micah e, ao lado de Sadie e Charles, buscou vingança. Após um confronto, John matou Micah, com Dutch intervindo e depois desaparecendo. John encontrou o dinheiro de Blackwater e voltou para seu rancho, casando-se com Abigail. Sadie e Charles partiram, enquanto o Bureau de Investigação, liderado por Edgar Ross, começou a investigar a morte de Micah, eventualmente mirando em John. John viveu pacificamente com sua família por alguns anos, inconsciente da ameaça iminente.\n"
          ]
        }
      ]
    },
    {
      "cell_type": "code",
      "source": [
        "\n",
        "#Configurando o chat\n",
        "chat = model.start_chat(history=[])\n",
        "\n",
        "#Configurando o prompt\n",
        "mensagem_usuario = input(\"Agora é só começar a conversa: \\n\")\n",
        "objetivo = \"O seu objetivo é agir como um personagem do jogo Red Dead Redemption 2, cuja as informações nome, gênero, personalidade e história serão informadas posteriormente. Só responda o que for pedido, as suas informações devem ser guardadas para você, a não ser que sejam solicitadas explicitamente, e devem servir apenas como background sobre como você age perante certas situações. Não fale o seu nome na terceira pessoa. \"\n",
        "instrucoes = (f\"O seu nome é: {nome}, do gênero {genero}, sua personalida é a seguinte: {personalidade}, e a sua história é essa: {historia}. Aja como tal. Você fala português. Com tudo isso claro, vamos começar: \")\n",
        "prompt = objetivo + instrucoes + mensagem_usuario\n",
        "\n",
        "#Enviando primeira mensagem, com as informações da história do personagem\n",
        "resposta = chat.send_message(prompt)\n",
        "\n",
        "#Loop da conversa\n",
        "while prompt not in [\"fim\", \"FIM\", \"Fim\"]:\n",
        "  resposta = chat.send_message(mensagem_usuario)\n",
        "  print(\"Resposta: \", resposta.text, \"\\n\")\n",
        "  mensagem_usuario = input(\"Esperando mensagem (Digite 'Fim' para encerrar)... \\n\")\n"
      ],
      "metadata": {
        "id": "v5Z6O8ajqlQA"
      },
      "execution_count": null,
      "outputs": []
    }
  ]
}